{
 "cells": [
  {
   "cell_type": "code",
   "execution_count": 1,
   "metadata": {},
   "outputs": [],
   "source": [
    "%matplotlib inline\n",
    "from warnings import filterwarnings\n",
    "filterwarnings('ignore')"
   ]
  },
  {
   "cell_type": "code",
   "execution_count": 2,
   "metadata": {},
   "outputs": [
    {
     "name": "stdout",
     "output_type": "stream",
     "text": [
      "  age size gender\n",
      "0  17   XS      M\n",
      "1  23    M      F\n",
      "2   x    L      f\n",
      "3  38   XL      M\n",
      "4  54    S      M\n",
      "5  67    L      F\n",
      "6  32    M      F\n"
     ]
    }
   ],
   "source": [
    "# Handling missing value and categorical data\n",
    "import pandas as pd\n",
    "df = pd.DataFrame({'age': [17, 23, 'x', 38, 54, 67, 32],\n",
    "                  'size': ['XS', 'M', 'L', 'XL', 'S', 'L', 'M'],\n",
    "                  'gender':['M', 'F', 'f', 'M', 'M', 'F', 'F']})\n",
    "size_mapping = {'XS': 1, 'S': 2, 'M': 3, 'L': 4, 'XL': 5}\n",
    "print(df)"
   ]
  },
  {
   "cell_type": "markdown",
   "metadata": {},
   "source": [
    "To do:\n",
    "- Check missing values using info() and isnull()"
   ]
  },
  {
   "cell_type": "code",
   "execution_count": 3,
   "metadata": {},
   "outputs": [
    {
     "name": "stdout",
     "output_type": "stream",
     "text": [
      "<class 'pandas.core.frame.DataFrame'>\n",
      "RangeIndex: 7 entries, 0 to 6\n",
      "Data columns (total 3 columns):\n",
      " #   Column  Non-Null Count  Dtype \n",
      "---  ------  --------------  ----- \n",
      " 0   age     7 non-null      object\n",
      " 1   size    7 non-null      object\n",
      " 2   gender  7 non-null      object\n",
      "dtypes: object(3)\n",
      "memory usage: 296.0+ bytes\n",
      "None\n",
      "age       0\n",
      "size      0\n",
      "gender    0\n",
      "dtype: int64\n"
     ]
    }
   ],
   "source": [
    "print(df.info())\n",
    "print(df.isnull().sum())"
   ]
  },
  {
   "cell_type": "markdown",
   "metadata": {},
   "source": [
    "To do: \n",
    "- Replace missing values with NaN.\n",
    "- Print out the resulting dataframe.\n",
    "- Recheck missing values using info() and isnull()."
   ]
  },
  {
   "cell_type": "code",
   "execution_count": null,
   "metadata": {},
   "outputs": [],
   "source": [
    "import numpy as np\n",
    "df = df.replace({'x':np.nan})\n",
    "print(df)"
   ]
  },
  {
   "cell_type": "markdown",
   "metadata": {},
   "source": [
    "To do:\n",
    "- Encode ordinal data using map(). \n",
    "- Print out the resulting dataframe"
   ]
  },
  {
   "cell_type": "code",
   "execution_count": null,
   "metadata": {},
   "outputs": [],
   "source": []
  },
  {
   "cell_type": "markdown",
   "metadata": {},
   "source": [
    "To do:\n",
    "- Use pd.get_dummies() to encode nominal data using one-hot encoding and store the resulting dataframe in df1.\n",
    "- Print df1 and verify that the resulting dataframe is correct."
   ]
  },
  {
   "cell_type": "code",
   "execution_count": null,
   "metadata": {},
   "outputs": [],
   "source": []
  },
  {
   "cell_type": "markdown",
   "metadata": {},
   "source": [
    "To do:\n",
    "- Rectify the problem in the previous step.\n",
    "- Use pd.get_dummies() to encode nominal data using one-hot encoding and store the resulting dataframe in df2.\n",
    "- Print df2."
   ]
  },
  {
   "cell_type": "code",
   "execution_count": null,
   "metadata": {},
   "outputs": [],
   "source": []
  },
  {
   "cell_type": "markdown",
   "metadata": {},
   "source": [
    "To do:\n",
    "- Impute missing data with median value of the column"
   ]
  },
  {
   "cell_type": "code",
   "execution_count": null,
   "metadata": {},
   "outputs": [],
   "source": []
  }
 ],
 "metadata": {
  "kernelspec": {
   "display_name": "Python 3 (ipykernel)",
   "language": "python",
   "name": "python3"
  },
  "language_info": {
   "codemirror_mode": {
    "name": "ipython",
    "version": 3
   },
   "file_extension": ".py",
   "mimetype": "text/x-python",
   "name": "python",
   "nbconvert_exporter": "python",
   "pygments_lexer": "ipython3",
   "version": "3.9.12"
  }
 },
 "nbformat": 4,
 "nbformat_minor": 4
}
